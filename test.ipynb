{
 "cells": [
  {
   "cell_type": "code",
   "execution_count": 17,
   "metadata": {},
   "outputs": [],
   "source": [
    "import pandas as pd\n",
    "\n",
    "df = pd.read_csv(\"tax_microdata_2021.csv.gz\")"
   ]
  },
  {
   "cell_type": "code",
   "execution_count": 27,
   "metadata": {},
   "outputs": [
    {
     "name": "stdout",
     "output_type": "stream",
     "text": [
      "Scale: 1.0, total: 1235.6420345077538, deviation: 1029.8420345077539\n",
      "Scale: 1.0000000149011612, total: 1235.6420529202553, deviation: 1029.8420529202554\n",
      "Scale: -0.009999999999999787, total: -12.356420345077279, deviation: -218.1564203450773\n",
      "Scale: -0.009999985098838593, total: -12.356401932576146, deviation: -218.15640193257616\n",
      "Scale: 0.16655307989653162, total: 205.79998649688287, deviation: -1.3503117145319266e-05\n",
      "Scale: 0.1665530947976928, total: 205.80000490938406, deviation: 4.9093840459590865e-06\n"
     ]
    },
    {
     "data": {
      "text/plain": [
       "0         0.0\n",
       "1         0.0\n",
       "2         0.0\n",
       "3         0.0\n",
       "4         0.0\n",
       "         ... \n",
       "233384    0.0\n",
       "233385    0.0\n",
       "233386    0.0\n",
       "233387    0.0\n",
       "233388    0.0\n",
       "Name: PT_binc_w2_wages, Length: 233389, dtype: float64"
      ]
     },
     "execution_count": 27,
     "metadata": {},
     "output_type": "execute_result"
    }
   ],
   "source": [
    "import numpy as np\n",
    "import pandas as pd\n",
    "from scipy.optimize import minimize\n",
    "\n",
    "def add_pt_w2_wages(df, time_period: int, verbose: bool = True):\n",
    "    \"\"\"\n",
    "    Add pass-through W2 wages to the flat file.\n",
    "\n",
    "    Args:\n",
    "        df (pd.DataFrame): The DataFrame to add W2 wages to.\n",
    "\n",
    "    Returns:\n",
    "        pd.DataFrame: The DataFrame with W2 wages added.\n",
    "    \"\"\"\n",
    "    qbid_tax_expenditures = { # From JCT TE reports 2018- and 2023-\n",
    "        2015: 0,\n",
    "        2016: 0,\n",
    "        2017: 0,\n",
    "        2018: 33.2,\n",
    "        2019: 48.6,\n",
    "        2020: 56.3,\n",
    "        2021: 59.0,\n",
    "        2022: 61.9,\n",
    "        2023: 55.7,\n",
    "        2024: 57.6,\n",
    "        2025: 60.9,\n",
    "        2026: 24.9,\n",
    "    }\n",
    "\n",
    "    QBID_TOTAL_21 = 205.8\n",
    "\n",
    "    target = QBID_TOTAL_21 * qbid_tax_expenditures[time_period] / qbid_tax_expenditures[2021]\n",
    "\n",
    "    qbi = np.maximum(0, df.e00900 + df.e26270 + df.e02100 + df.e27200)\n",
    "\n",
    "    # Solve for scale to match the tax expenditure\n",
    "\n",
    "    def expenditure_loss(scale):\n",
    "        res = (qbi * df.s006 * scale[0]).sum()/1e9\n",
    "        deviation = (res - target)\n",
    "        if verbose:\n",
    "            print(f\"Scale: {scale[0]}, total: {res}, deviation: {deviation}\")\n",
    "        return deviation ** 2\n",
    "    \n",
    "    \n",
    "    scale = minimize(\n",
    "        expenditure_loss,\n",
    "        1,\n",
    "        tol=1,\n",
    "    ).x[0]\n",
    "\n",
    "    df[\"PT_binc_w2_wages\"] = qbi * scale\n",
    "    \n",
    "    return df\n",
    "\n",
    "add_pt_w2_wages(df, 2021).PT_binc_w2_wages"
   ]
  }
 ],
 "metadata": {
  "kernelspec": {
   "display_name": "base",
   "language": "python",
   "name": "python3"
  },
  "language_info": {
   "codemirror_mode": {
    "name": "ipython",
    "version": 3
   },
   "file_extension": ".py",
   "mimetype": "text/x-python",
   "name": "python",
   "nbconvert_exporter": "python",
   "pygments_lexer": "ipython3",
   "version": "3.9.12"
  }
 },
 "nbformat": 4,
 "nbformat_minor": 2
}
