{
 "cells": [
  {
   "cell_type": "code",
   "execution_count": 21,
   "metadata": {},
   "outputs": [],
   "source": [
    "import pandas as pd\n",
    "\n",
    "df = pd.read_csv(\"tax_microdata_2021.csv.gz\")"
   ]
  },
  {
   "cell_type": "code",
   "execution_count": 31,
   "metadata": {},
   "outputs": [
    {
     "data": {
      "text/plain": [
       "173.07107828276648"
      ]
     },
     "execution_count": 31,
     "metadata": {},
     "output_type": "execute_result"
    }
   ],
   "source": [
    "(df.c00100 > 0).sum() / 1e6"
   ]
  },
  {
   "cell_type": "code",
   "execution_count": 35,
   "metadata": {},
   "outputs": [
    {
     "data": {
      "text/html": [
       "<div>\n",
       "<style scoped>\n",
       "    .dataframe tbody tr th:only-of-type {\n",
       "        vertical-align: middle;\n",
       "    }\n",
       "\n",
       "    .dataframe tbody tr th {\n",
       "        vertical-align: top;\n",
       "    }\n",
       "\n",
       "    .dataframe thead th {\n",
       "        text-align: right;\n",
       "    }\n",
       "</style>\n",
       "<table border=\"1\" class=\"dataframe\">\n",
       "  <thead>\n",
       "    <tr style=\"text-align: right;\">\n",
       "      <th></th>\n",
       "      <th>Variable</th>\n",
       "      <th>Sum (bn)</th>\n",
       "      <th>Nonzero count (m)</th>\n",
       "    </tr>\n",
       "  </thead>\n",
       "  <tbody>\n",
       "    <tr>\n",
       "      <th>0</th>\n",
       "      <td>index</td>\n",
       "      <td>12152.3</td>\n",
       "      <td>214.0</td>\n",
       "    </tr>\n",
       "    <tr>\n",
       "      <th>1</th>\n",
       "      <td>RECID</td>\n",
       "      <td>828073.8</td>\n",
       "      <td>214.0</td>\n",
       "    </tr>\n",
       "    <tr>\n",
       "      <th>2</th>\n",
       "      <td>MARS</td>\n",
       "      <td>0.4</td>\n",
       "      <td>214.0</td>\n",
       "    </tr>\n",
       "    <tr>\n",
       "      <th>3</th>\n",
       "      <td>e00200p</td>\n",
       "      <td>7492.2</td>\n",
       "      <td>140.0</td>\n",
       "    </tr>\n",
       "    <tr>\n",
       "      <th>4</th>\n",
       "      <td>e00200s</td>\n",
       "      <td>2440.5</td>\n",
       "      <td>51.3</td>\n",
       "    </tr>\n",
       "    <tr>\n",
       "      <th>...</th>\n",
       "      <td>...</td>\n",
       "      <td>...</td>\n",
       "      <td>...</td>\n",
       "    </tr>\n",
       "    <tr>\n",
       "      <th>206</th>\n",
       "      <td>othertaxes</td>\n",
       "      <td>97.5</td>\n",
       "      <td>13.2</td>\n",
       "    </tr>\n",
       "    <tr>\n",
       "      <th>207</th>\n",
       "      <td>odc</td>\n",
       "      <td>0.0</td>\n",
       "      <td>0.4</td>\n",
       "    </tr>\n",
       "    <tr>\n",
       "      <th>208</th>\n",
       "      <td>c59660</td>\n",
       "      <td>48.9</td>\n",
       "      <td>27.1</td>\n",
       "    </tr>\n",
       "    <tr>\n",
       "      <th>209</th>\n",
       "      <td>f6251</td>\n",
       "      <td>0.0</td>\n",
       "      <td>0.0</td>\n",
       "    </tr>\n",
       "    <tr>\n",
       "      <th>210</th>\n",
       "      <td>codtc_limited</td>\n",
       "      <td>39.4</td>\n",
       "      <td>29.0</td>\n",
       "    </tr>\n",
       "  </tbody>\n",
       "</table>\n",
       "<p>211 rows × 3 columns</p>\n",
       "</div>"
      ],
      "text/plain": [
       "          Variable  Sum (bn)  Nonzero count (m)\n",
       "0            index   12152.3              214.0\n",
       "1            RECID  828073.8              214.0\n",
       "2             MARS       0.4              214.0\n",
       "3          e00200p    7492.2              140.0\n",
       "4          e00200s    2440.5               51.3\n",
       "..             ...       ...                ...\n",
       "206     othertaxes      97.5               13.2\n",
       "207            odc       0.0                0.4\n",
       "208         c59660      48.9               27.1\n",
       "209          f6251       0.0                0.0\n",
       "210  codtc_limited      39.4               29.0\n",
       "\n",
       "[211 rows x 3 columns]"
      ]
     },
     "execution_count": 35,
     "metadata": {},
     "output_type": "execute_result"
    }
   ],
   "source": [
    "from microdf import MicroDataFrame\n",
    "import numpy as np\n",
    "\n",
    "df = MicroDataFrame(df, weights=\"s006\")\n",
    "\n",
    "variables = []\n",
    "sums = []\n",
    "nonzero_counts = []\n",
    "\n",
    "for variable in df.columns:\n",
    "    variables.append(variable)\n",
    "    sums.append((df[variable].sum() / 1e9).round(1))\n",
    "    nonzero_counts.append(((df[variable] > 0).sum() / 1e6).round(1))\n",
    "\n",
    "summary_df = pd.DataFrame(\n",
    "    {\n",
    "        \"Variable\": variables,\n",
    "        \"Sum (bn)\": sums,\n",
    "        \"Nonzero count (m)\": nonzero_counts,\n",
    "    }\n",
    ")\n",
    "\n",
    "summary_df"
   ]
  }
 ],
 "metadata": {
  "kernelspec": {
   "display_name": "base",
   "language": "python",
   "name": "python3"
  },
  "language_info": {
   "codemirror_mode": {
    "name": "ipython",
    "version": 3
   },
   "file_extension": ".py",
   "mimetype": "text/x-python",
   "name": "python",
   "nbconvert_exporter": "python",
   "pygments_lexer": "ipython3",
   "version": "3.9.12"
  }
 },
 "nbformat": 4,
 "nbformat_minor": 2
}
