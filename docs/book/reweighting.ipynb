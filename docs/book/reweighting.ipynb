{
 "cells": [
  {
   "cell_type": "markdown",
   "metadata": {},
   "source": [
    "# Reweighting\n",
    "\n",
    "This page examines the effects of reweighting the TMD data file along several key variables.\n",
    "\n",
    "## Demogaphics"
   ]
  },
  {
   "cell_type": "code",
   "execution_count": 1,
   "metadata": {},
   "outputs": [
    {
     "data": {
      "text/html": [
       "<div>\n",
       "<style scoped>\n",
       "    .dataframe tbody tr th:only-of-type {\n",
       "        vertical-align: middle;\n",
       "    }\n",
       "\n",
       "    .dataframe tbody tr th {\n",
       "        vertical-align: top;\n",
       "    }\n",
       "\n",
       "    .dataframe thead th {\n",
       "        text-align: right;\n",
       "    }\n",
       "</style>\n",
       "<table border=\"1\" class=\"dataframe\">\n",
       "  <thead>\n",
       "    <tr style=\"text-align: right;\">\n",
       "      <th></th>\n",
       "      <th>Variable</th>\n",
       "      <th>Pre-reweighting</th>\n",
       "      <th>Post-reweighting</th>\n",
       "    </tr>\n",
       "  </thead>\n",
       "  <tbody>\n",
       "    <tr>\n",
       "      <th>0</th>\n",
       "      <td>nu06</td>\n",
       "      <td>35.1</td>\n",
       "      <td>30.7</td>\n",
       "    </tr>\n",
       "    <tr>\n",
       "      <th>1</th>\n",
       "      <td>nu13</td>\n",
       "      <td>66.6</td>\n",
       "      <td>57.4</td>\n",
       "    </tr>\n",
       "    <tr>\n",
       "      <th>2</th>\n",
       "      <td>nu18</td>\n",
       "      <td>87.2</td>\n",
       "      <td>74.8</td>\n",
       "    </tr>\n",
       "  </tbody>\n",
       "</table>\n",
       "</div>"
      ],
      "text/plain": [
       "  Variable  Pre-reweighting  Post-reweighting\n",
       "0     nu06             35.1              30.7\n",
       "1     nu13             66.6              57.4\n",
       "2     nu18             87.2              74.8"
      ]
     },
     "execution_count": 1,
     "metadata": {},
     "output_type": "execute_result"
    }
   ],
   "source": [
    "import pandas as pd\n",
    "from tax_microdata_benchmarking.storage import STORAGE_FOLDER\n",
    "\n",
    "df = pd.read_csv(STORAGE_FOLDER / \"output\" / \"tmd_2021.csv\")\n",
    "\n",
    "COLUMNS = [\n",
    "    \"nu06\",\n",
    "    \"nu13\",\n",
    "    \"nu18\",\n",
    "]\n",
    "\n",
    "pre_reweighting_sums = [\n",
    "    (df[column] * df.s006_original).sum() / 1e6 for column in COLUMNS\n",
    "]\n",
    "post_reweighting_sums = [\n",
    "    (df[column] * df.s006).sum() / 1e6 for column in COLUMNS\n",
    "]\n",
    "\n",
    "pd.DataFrame(\n",
    "    {\n",
    "        \"Variable\": COLUMNS,\n",
    "        \"Pre-reweighting\": pre_reweighting_sums,\n",
    "        \"Post-reweighting\": post_reweighting_sums,\n",
    "    }\n",
    ").round(1)"
   ]
  },
  {
   "cell_type": "code",
   "execution_count": 7,
   "metadata": {},
   "outputs": [
    {
     "data": {
      "text/plain": [
       "data_source\n",
       "0.0     6.051887\n",
       "1.0    81.169796\n",
       "dtype: float64"
      ]
     },
     "execution_count": 7,
     "metadata": {},
     "output_type": "execute_result"
    }
   ],
   "source": [
    "from microdf import MicroDataFrame\n",
    "\n",
    "df = MicroDataFrame(df, weights=\"s006_original\")\n",
    "\n",
    "df.nu18.groupby(df.data_source).sum() / 1e6"
   ]
  },
  {
   "cell_type": "code",
   "execution_count": 9,
   "metadata": {},
   "outputs": [
    {
     "name": "stderr",
     "output_type": "stream",
     "text": [
      "Downloaded ASEC: 100%|██████████| 158M/158M [00:43<00:00, 3.64MiB/s]  \n"
     ]
    },
    {
     "name": "stdout",
     "output_type": "stream",
     "text": [
      "No previous year data available for this dataset, skipping previous year income imputation.\n"
     ]
    }
   ],
   "source": [
    "from policyengine_us import Microsimulation\n",
    "\n",
    "sim = Microsimulation(dataset=\"cps_2021\")"
   ]
  },
  {
   "cell_type": "code",
   "execution_count": 10,
   "metadata": {},
   "outputs": [
    {
     "data": {
      "text/plain": [
       "73.12326943637085"
      ]
     },
     "execution_count": 10,
     "metadata": {},
     "output_type": "execute_result"
    }
   ],
   "source": [
    "(sim.calculate(\"age\", period=2021) < 18).sum() / 1e6"
   ]
  },
  {
   "cell_type": "code",
   "execution_count": 8,
   "metadata": {},
   "outputs": [
    {
     "data": {
      "text/plain": [
       "data_source\n",
       "0.0     6.051887\n",
       "1.0    68.759702\n",
       "dtype: float64"
      ]
     },
     "execution_count": 8,
     "metadata": {},
     "output_type": "execute_result"
    }
   ],
   "source": [
    "from microdf import MicroDataFrame\n",
    "\n",
    "df = MicroDataFrame(df, weights=\"s006\")\n",
    "\n",
    "df.nu18.groupby(df.data_source).sum() / 1e6"
   ]
  },
  {
   "cell_type": "markdown",
   "metadata": {},
   "source": [
    "# QBI deduction"
   ]
  },
  {
   "cell_type": "code",
   "execution_count": 2,
   "metadata": {},
   "outputs": [
    {
     "data": {
      "text/html": [
       "<div>\n",
       "<style scoped>\n",
       "    .dataframe tbody tr th:only-of-type {\n",
       "        vertical-align: middle;\n",
       "    }\n",
       "\n",
       "    .dataframe tbody tr th {\n",
       "        vertical-align: top;\n",
       "    }\n",
       "\n",
       "    .dataframe thead th {\n",
       "        text-align: right;\n",
       "    }\n",
       "</style>\n",
       "<table border=\"1\" class=\"dataframe\">\n",
       "  <thead>\n",
       "    <tr style=\"text-align: right;\">\n",
       "      <th></th>\n",
       "      <th>Pre-reweighting</th>\n",
       "      <th>Post-reweighting</th>\n",
       "    </tr>\n",
       "  </thead>\n",
       "  <tbody>\n",
       "    <tr>\n",
       "      <th>0</th>\n",
       "      <td>242.3</td>\n",
       "      <td>203.0</td>\n",
       "    </tr>\n",
       "  </tbody>\n",
       "</table>\n",
       "</div>"
      ],
      "text/plain": [
       "   Pre-reweighting  Post-reweighting\n",
       "0            242.3             203.0"
      ]
     },
     "execution_count": 2,
     "metadata": {},
     "output_type": "execute_result"
    }
   ],
   "source": [
    "pd.DataFrame(\n",
    "    {\n",
    "        \"Pre-reweighting\": [(df.s006_original * df.qbided).sum() / 1e9],\n",
    "        \"Post-reweighting\": [(df.s006 * df.qbided).sum() / 1e9],\n",
    "    }\n",
    ").round(1)"
   ]
  },
  {
   "cell_type": "markdown",
   "metadata": {},
   "source": [
    "## SALT distributions"
   ]
  },
  {
   "cell_type": "code",
   "execution_count": 3,
   "metadata": {},
   "outputs": [
    {
     "data": {
      "text/html": [
       "<div>\n",
       "<style scoped>\n",
       "    .dataframe tbody tr th:only-of-type {\n",
       "        vertical-align: middle;\n",
       "    }\n",
       "\n",
       "    .dataframe tbody tr th {\n",
       "        vertical-align: top;\n",
       "    }\n",
       "\n",
       "    .dataframe thead th {\n",
       "        text-align: right;\n",
       "    }\n",
       "</style>\n",
       "<table border=\"1\" class=\"dataframe\">\n",
       "  <thead>\n",
       "    <tr style=\"text-align: right;\">\n",
       "      <th></th>\n",
       "      <th>Pre-reweighting</th>\n",
       "      <th>Post-reweighting</th>\n",
       "    </tr>\n",
       "  </thead>\n",
       "  <tbody>\n",
       "    <tr>\n",
       "      <th>0</th>\n",
       "      <td>346.4</td>\n",
       "      <td>317.1</td>\n",
       "    </tr>\n",
       "  </tbody>\n",
       "</table>\n",
       "</div>"
      ],
      "text/plain": [
       "   Pre-reweighting  Post-reweighting\n",
       "0            346.4             317.1"
      ]
     },
     "execution_count": 3,
     "metadata": {},
     "output_type": "execute_result"
    }
   ],
   "source": [
    "pd.DataFrame(\n",
    "    {\n",
    "        \"Pre-reweighting\": [\n",
    "            (df.s006_original * (df.e18400 + df.e18500)).sum() / 1e9\n",
    "        ],\n",
    "        \"Post-reweighting\": [(df.s006 * (df.e18400 + df.e18500)).sum() / 1e9],\n",
    "    }\n",
    ").round(1)"
   ]
  }
 ],
 "metadata": {
  "kernelspec": {
   "display_name": "base",
   "language": "python",
   "name": "python3"
  },
  "language_info": {
   "codemirror_mode": {
    "name": "ipython",
    "version": 3
   },
   "file_extension": ".py",
   "mimetype": "text/x-python",
   "name": "python",
   "nbconvert_exporter": "python",
   "pygments_lexer": "ipython3",
   "version": "3.9.18"
  }
 },
 "nbformat": 4,
 "nbformat_minor": 2
}
